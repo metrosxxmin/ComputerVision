{
 "cells": [
  {
   "cell_type": "code",
   "execution_count": null,
   "metadata": {},
   "outputs": [],
   "source": [
    "import cv2\n",
    "import numpy as np"
   ]
  },
  {
   "cell_type": "code",
   "execution_count": null,
   "metadata": {},
   "outputs": [],
   "source": [
    "def my_bilinear(img, scale):\n",
    "    h, w, c = img.shape\n",
    "\n",
    "    resImg = np.zeros((int(h*scale), int(w*scale), c), dtype = np.uint8)\n",
    "\n",
    "    rh, rw, rc = resImg.shape\n",
    "\n",
    "    for i in range(0, rh):\n",
    "        for j in range(0, rw):\n",
    "            px = int(j // scale)\n",
    "            py = int(i // scale)\n",
    "\n",
    "            s = (i/scale) - py\n",
    "            t = (j/scale) - px\n",
    "\n",
    "            zz = (1-t) * (1-s)\n",
    "            zo = (1-s) * t\n",
    "            oz = (1-t) * s\n",
    "            oo = t * s\n",
    "\n",
    "            if px == h-1 and px == w-1:\n",
    "                resImg[i,j,:] = zz*img[py,px,:] + zo*img[py,px-1,:] + oz*img[py-1, px,:] + oo * img[py-1,px-1,:]\n",
    "            elif py == h-1:\n",
    "                resImg[i,j,:] = zz*img[py,px,:] + zo * img[py, px+1,:] + oz * img[py-1, px, :] + oo * img[py-1, px+1, :]\n",
    "            elif px == w-1:\n",
    "                resImg[i,j,:] = zz*img[py,px,:] + zo * img[py, px-1,:] + oz * img[py+1, px, :] + oo * img[py+1, px-1, :]\n",
    "            else:\n",
    "                resImg[i,j,:] = zz*img[py,px,:] + zo*img[py, px+1,:] + oz*img[py+1, px, :] + oo*img[py+1, px+1, :]\n",
    "\n",
    "\n",
    "    return resImg\n"
   ]
  },
  {
   "cell_type": "code",
   "execution_count": null,
   "metadata": {},
   "outputs": [],
   "source": [
    "src = cv2.imread('./sample/Lena.tiff')\n",
    "\n",
    "scale = 2.5\n",
    "result = my_bilinear(src, scale)\n",
    "cv2.imshow('res', result)\n",
    "cv2.waitKey()\n",
    "cv2.destroyAllWindows()"
   ]
  }
 ],
 "metadata": {
  "kernelspec": {
   "display_name": "Python 3",
   "language": "python",
   "name": "python3"
  },
  "language_info": {
   "codemirror_mode": {
    "name": "ipython",
    "version": 3
   },
   "file_extension": ".py",
   "mimetype": "text/x-python",
   "name": "python",
   "nbconvert_exporter": "python",
   "pygments_lexer": "ipython3",
   "version": "3.7.4"
  }
 },
 "nbformat": 4,
 "nbformat_minor": 2
}
