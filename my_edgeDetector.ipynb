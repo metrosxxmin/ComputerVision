{
 "cells": [
  {
   "cell_type": "code",
   "execution_count": 1,
   "metadata": {},
   "outputs": [],
   "source": [
    "import cv2\n",
    "import numpy as np"
   ]
  },
  {
   "cell_type": "code",
   "execution_count": 2,
   "metadata": {},
   "outputs": [],
   "source": [
    "def my_filtering(img, kernel):\n",
    "    '''\n",
    "    :param img: Image to apply the Gaussian filter\n",
    "    :param kernel: Gaussian Kernel to apply the image\n",
    "    :return: gaussian filtering is done using the input kernel.\n",
    "    '''\n",
    "    row = len(img)\n",
    "    col = len(img[0])\n",
    "    ksizeX = kernel.shape[1]\n",
    "    ksizeY = kernel.shape[0]\n",
    "    pad_image = cv2.copyMakeBorder(img, ksizeY//2, ksizeY // 2, ksizeX // 2, ksizeX // 2, cv2.BORDER_WRAP)\n",
    "    filtered_img = np.zeros((row, col), dtype=np.float32) # Due to processing the negetive number and decimal point, declare the float.\n",
    "    for i in range(row):\n",
    "        for j in range(col):\n",
    "            filtered_img[i, j] = np.sum(np.multiply(pad_image[i: i+ksizeY, j: j+ksizeX], kernel))\n",
    "\n",
    "    return filtered_img"
   ]
  },
  {
   "cell_type": "code",
   "execution_count": 3,
   "metadata": {},
   "outputs": [],
   "source": [
    "def find_zerocrossing(LoG, thresh = 0.01):\n",
    "    '''\n",
    "    :param LoG: Image filtered by LoG\n",
    "    :param thresh: Due to error by float number's operation, use the thresh value.\n",
    "    :return: Image in which only zero-crossing points have 255 values.\n",
    "    '''\n",
    "    y, x = len(LoG), len(LoG[0])\n",
    "    res = np.zeros((y, x), dtype=np.uint8)\n",
    "    for i in range(1, y - 1):  # Exclude the first and last (not to cross the border in image)\n",
    "        for j in range(1, x - 1):\n",
    "            near = LoG[i - 1: i + 1, j - 1: j + 1]\n",
    "            max_value = np.max(near)\n",
    "            min_value = np.min(near)\n",
    "            if max_value * min_value * thresh < 0:\n",
    "                res[i, j] = 255\n",
    "\n",
    "    return res"
   ]
  },
  {
   "cell_type": "code",
   "execution_count": 4,
   "metadata": {},
   "outputs": [],
   "source": [
    "def my_LoG(img, ksize=7):  # default sigma =1, sigma = 0.3(n/2 -1) + 0.8\n",
    "    '''\n",
    "    :param img: Image for LoG edge detection.\n",
    "    :param ksize: Kernel size. Using the ksize x ksize kernel.\n",
    "    :return: Image found by the LoG's method.\n",
    "    '''\n",
    "    sigma = 0.3 * (ksize / 2 - 1) + 0.8\n",
    "    arr = np.arange(-ksize // 2 + 1., ksize // 2 + 1.)\n",
    "    x, y = np.meshgrid(arr, arr)\n",
    "\n",
    "    kernel = np.exp( -(x**2 + y**2) / (2 * sigma**2)) * (-1 + (x**2 + y**2) / 2 / sigma**2) * (1 / (np.pi * sigma**4))\n",
    "    LoG_img = my_filtering(img, kernel) # LoG is a kernel\n",
    "    LoG_img = find_zerocrossing(LoG_img)\n",
    "    return LoG_img.astype(np.uint8)"
   ]
  },
  {
   "cell_type": "code",
   "execution_count": 5,
   "metadata": {},
   "outputs": [],
   "source": [
    "def my_DoG(img, ksize, sigma, gx): #default (3,3) sigma = 1, partial differential of y axis\n",
    "    '''\n",
    "    :param img: Image for DoG edge detection.\n",
    "    :param ksize: Kernel size. Using the ksize x ksize kernel.\n",
    "    :param sigma: Standard deviation for the Gaussian distribution.\n",
    "    :param gx: 0 is a partial differential of y axis and 1 is about x axis\n",
    "    :return: Gradient value\n",
    "    '''\n",
    "    arr = np.arange(-ksize // 2 + 1., ksize // 2 + 1.)\n",
    "    x, y = np.meshgrid(arr, arr)\n",
    "\n",
    "    if gx is 0:\n",
    "        kernel = np.exp(-(y**2) / (2. * sigma**2)) * (-y / sigma**2)\n",
    "    if gx is 1:\n",
    "        kernel = np.exp(-(x**2) / (2. * sigma**2)) * (-x / sigma**2)\n",
    "\n",
    "    DoG_img = my_filtering(img, kernel) # DoG is a kernel\n",
    "    return DoG_img"
   ]
  },
  {
   "cell_type": "code",
   "execution_count": null,
   "metadata": {},
   "outputs": [],
   "source": [
    "src = cv2.imread('./sample/Lena.tiff', 1)\n",
    "gray = cv2.cvtColor(src, cv2.COLOR_BGR2GRAY)\n",
    "\n",
    "LoG = my_LoG(gray, 15)\n",
    "DoGX = my_DoG(gray, 5, sigma=3, gx=1)\n",
    "DoGY = my_DoG(gray, 5, sigma=3, gx=0)\n",
    "DoG = np.sqrt(DoGX**2 + DoGY**2)\n",
    "DoG = DoG.astype(np.uint8)\n",
    "cv2.imshow(\"DoG\", DoG)\n",
    "cv2.imshow(\"LoG\", LoG)\n",
    "\n",
    "cv2.waitKey()\n",
    "cv2.destroyAllWindows()"
   ]
  }
 ],
 "metadata": {
  "kernelspec": {
   "display_name": "Python 3",
   "language": "python",
   "name": "python3"
  },
  "language_info": {
   "codemirror_mode": {
    "name": "ipython",
    "version": 3
   },
   "file_extension": ".py",
   "mimetype": "text/x-python",
   "name": "python",
   "nbconvert_exporter": "python",
   "pygments_lexer": "ipython3",
   "version": "3.7.4"
  }
 },
 "nbformat": 4,
 "nbformat_minor": 2
}
