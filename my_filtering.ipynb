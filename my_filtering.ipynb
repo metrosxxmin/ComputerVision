{
 "cells": [
  {
   "cell_type": "code",
   "execution_count": 1,
   "metadata": {},
   "outputs": [],
   "source": [
    "import cv2\n",
    "import numpy as np\n",
    "import time"
   ]
  },
  {
   "cell_type": "code",
   "execution_count": 2,
   "metadata": {},
   "outputs": [],
   "source": [
    "def my_padding(img, shape, boundary = 0):\n",
    "    '''\n",
    "    :param img: image for boundary padding\n",
    "    :param shape: kernel's shape\n",
    "    :param boundary: default = 0, zero-padding : 0, repetition : 1, mirroring : 2\n",
    "    :return: padding is done.\n",
    "    '''\n",
    "    row, col = len(img), len(img[0])\n",
    "    pad_sizeY, pad_sizeX = shape[0] // 2, shape[1] //2\n",
    "    res = np.zeros((row + (2 * pad_sizeY), col + (2 * pad_sizeX)), dtype=np.float)\n",
    "    pad_row, pad_col = len(res), len(res[0])\n",
    "    if pad_sizeY == 0 :\n",
    "        res[pad_sizeY:, pad_sizeX:-pad_sizeX] = img.copy()\n",
    "    elif pad_sizeX == 0:\n",
    "        res[pad_sizeY:-pad_sizeY, pad_sizeX:] = img.copy()\n",
    "    else:\n",
    "        res[pad_sizeY:-pad_sizeY, pad_sizeX:-pad_sizeX] = img.copy()\n",
    "    if boundary == 0:\n",
    "        return res\n",
    "    elif boundary == 1:\n",
    "        res[0:pad_sizeY, 0:pad_sizeX] = img[0, 0]  # Top-Left\n",
    "        res[-pad_sizeY:, 0:pad_sizeX] = img[row - 1, 0]  # Bottom-Left\n",
    "        res[0:pad_sizeY, -pad_sizeX:] = img[0, col - 1]  # Top-Right\n",
    "        res[-pad_sizeY:, -pad_sizeX:] = img[row - 1, col - 1]  # Bottom-Right\n",
    "        # axis = 1, 열반복, axis = 0, 행반복. default 0\n",
    "        res[0:pad_sizeY, pad_sizeX:pad_col-pad_sizeX] = np.repeat(img[0:1, 0:], [pad_sizeY], axis=0)  # Top\n",
    "        res[pad_row-pad_sizeY:, pad_sizeX:pad_col-pad_sizeX] = np.repeat(img[row - 1:row, 0:], [pad_sizeY], axis=0)  # Bottom\n",
    "        res[pad_sizeY:pad_row-pad_sizeY, 0:pad_sizeX] = np.repeat(img[0:, 0:1], [pad_sizeX], axis=1)  # Left\n",
    "        res[pad_sizeY:pad_row-pad_sizeY, pad_col-pad_sizeX:] = np.repeat(img[0:, col - 1:col], [pad_sizeX], axis=1)  # Right\n",
    "        return res\n",
    "    elif boundary == 2:\n",
    "        res[0:pad_sizeY, 0:pad_sizeX] = np.flip(img[0:pad_sizeY, 0:pad_sizeX])  # Top-Left\n",
    "        res[-pad_sizeY:, 0:pad_sizeX] = np.flip(img[-pad_sizeY:, 0:pad_sizeX])  # Bottom-Left\n",
    "        res[0:pad_sizeY, -pad_sizeX:] = np.flip(img[0:pad_sizeY, -pad_sizeX:])  # Top-Right\n",
    "        res[-pad_sizeY:, -pad_sizeX:] = np.flip(img[-pad_sizeY:, -pad_sizeX:])  # Bottom-Right\n",
    "\n",
    "        res[pad_sizeY:pad_row-pad_sizeY, 0:pad_sizeX] = np.flip(img[0:, 0:pad_sizeX], 1)  # Left\n",
    "        res[pad_sizeY:pad_row-pad_sizeY, pad_col-pad_sizeX:] = np.flip(img[0:, col-pad_sizeX:], 1)  # Right\n",
    "        res[0:pad_sizeY, pad_sizeX:pad_col-pad_sizeX] = np.flip(img[0:pad_sizeY, 0:], 0)  # Top\n",
    "        res[pad_row-pad_sizeY:, pad_sizeX:pad_col-pad_sizeX] = np.flip(img[row-pad_sizeY:, 0:], 0)  # Bottom\n",
    "        \n",
    "        return res\n"
   ]
  },
  {
   "cell_type": "code",
   "execution_count": 3,
   "metadata": {},
   "outputs": [],
   "source": [
    "def my_gaussian(shape, sigma):\n",
    "    '''\n",
    "    :param shape: shape of the Gaussian kernel you want to create, enter it in the form (5, 5) or (1, 5)\n",
    "    :param sigma: standard deviation for Gaussian distribution\n",
    "    :return: Gaussian kernel of shape\n",
    "    '''\n",
    "\n",
    "    m, n = shape[0] // 2, shape[1] // 2\n",
    "    y, x = np.ogrid[-m: m+1, -n: n+1]\n",
    "    # Coefficients disappear in the course of normalization.\n",
    "    gaus = np.exp(-(x*x + y*y) / (2.*sigma*sigma)) # When inverted, X and Y are the same\n",
    "    \n",
    "    gaus_sum = gaus.sum()\n",
    "    if gaus_sum != 0:\n",
    "        gaus /= gaus_sum\n",
    "    \n",
    "    return gaus"
   ]
  },
  {
   "cell_type": "code",
   "execution_count": 4,
   "metadata": {},
   "outputs": [],
   "source": [
    "def gaus_filtering(img, kernel, boundary = 0):\n",
    "    '''\n",
    "    :param img: Image to apply the Gaussian filter\n",
    "    :param kernel: Gaussian Kernel to apply the image\n",
    "    :param boundary: parameter (0 : zero-padding, default, 1: repetition, 2:mirroring) 'bout processing boundary\n",
    "    :return: gaussian filtering is done using the input kernel.\n",
    "    '''\n",
    "    row = len(img)\n",
    "    col = len(img[0])\n",
    "    ksizeX = kernel.shape[1]\n",
    "    ksizeY = kernel.shape[0]\n",
    "    pad_image = my_padding(img, (ksizeY, ksizeX), boundary=boundary)    # create the image padded.\n",
    "    filtered_img = np.zeros((row, col), dtype=np.float32) # Due to processing the negetive number and decimal point, declare the float.\n",
    "    for i in range(row):\n",
    "        for j in range(col):\n",
    "            filtered_img[i, j] = np.sum(np.multiply(pad_image[i: i+ksizeY, j: j+ksizeX], kernel))\n",
    "\n",
    "    return filtered_img"
   ]
  },
  {
   "cell_type": "markdown",
   "metadata": {},
   "source": [
    "#### Performance Comparison  \n",
    "This directly identifies the difference between the speed of the first and second-dimensional kernel operations. The output of first line is result of 1-D kernel's operations and next line is result of 2-D kernel's operations. if it's correct, 1-D kernel's operation is faster than the another.  "
   ]
  },
  {
   "cell_type": "code",
   "execution_count": null,
   "metadata": {},
   "outputs": [
    {
     "name": "stdout",
     "output_type": "stream",
     "text": [
      "5.652229591000001\n",
      "3.3892775340000014\n"
     ]
    }
   ],
   "source": [
    "src = cv2.imread(\"./sample/lena.tiff\", cv2.IMREAD_GRAYSCALE)\n",
    "gaus2D = my_gaussian((101, 101), 13)\n",
    "gaus1D = my_gaussian((1, 101), 13)\n",
    "\n",
    "start = time.perf_counter()     # time measurement\n",
    "img2D = gaus_filtering(src, gaus2D, boundary=0)\n",
    "end = time.perf_counter()\n",
    "print(end-start)\n",
    "\n",
    "start = time.perf_counter()\n",
    "img1D = gaus_filtering(src, gaus1D, boundary=0)\n",
    "img1D = gaus_filtering(img1D, gaus1D.T, boundary=0)\n",
    "end = time.perf_counter()\n",
    "print(end-start)\n",
    "\n",
    "cv2.imshow('img1D', img1D.astype(np.uint8))\n",
    "cv2.imshow('img2D', img2D.astype(np.uint8))\n",
    "cv2.waitKey()\n",
    "cv2.destroyAllWindows()\n"
   ]
  }
 ],
 "metadata": {
  "kernelspec": {
   "display_name": "Python 3",
   "language": "python",
   "name": "python3"
  },
  "language_info": {
   "codemirror_mode": {
    "name": "ipython",
    "version": 3
   },
   "file_extension": ".py",
   "mimetype": "text/x-python",
   "name": "python",
   "nbconvert_exporter": "python",
   "pygments_lexer": "ipython3",
   "version": "3.7.4"
  }
 },
 "nbformat": 4,
 "nbformat_minor": 2
}
